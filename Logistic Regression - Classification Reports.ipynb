{
 "cells": [
  {
   "cell_type": "code",
   "execution_count": 1,
   "metadata": {},
   "outputs": [],
   "source": [
    "import numpy as np"
   ]
  },
  {
   "cell_type": "code",
   "execution_count": 2,
   "metadata": {},
   "outputs": [],
   "source": [
    "import sklearn.metrics as skmet"
   ]
  },
  {
   "cell_type": "code",
   "execution_count": 3,
   "metadata": {},
   "outputs": [],
   "source": [
    "tr   = np.array([0,0,0,0,0,0,0,0,1,1,1,1,1,1])\n",
    "pred = np.array([0,0,1,1,1,0,0,0,1,1,0,0,1,1])"
   ]
  },
  {
   "cell_type": "code",
   "execution_count": 4,
   "metadata": {},
   "outputs": [
    {
     "data": {
      "text/plain": [
       "array([[5, 3],\n",
       "       [2, 4]], dtype=int64)"
      ]
     },
     "execution_count": 4,
     "metadata": {},
     "output_type": "execute_result"
    }
   ],
   "source": [
    "skmet.confusion_matrix(tr,pred)"
   ]
  },
  {
   "cell_type": "markdown",
   "metadata": {},
   "source": [
    "# TN       FP\n",
    "# FN       TP"
   ]
  },
  {
   "cell_type": "code",
   "execution_count": 5,
   "metadata": {},
   "outputs": [],
   "source": [
    "tr   = np.array([0,0,0,0,0,0,0,0,1,1,1,1,1,1,2,2,2,2,2])\n",
    "pred = np.array([0,0,1,1,1,0,0,0,1,1,0,0,1,1,1,1,2,1,1])"
   ]
  },
  {
   "cell_type": "code",
   "execution_count": 6,
   "metadata": {},
   "outputs": [
    {
     "data": {
      "text/plain": [
       "array([[5, 3, 0],\n",
       "       [2, 4, 0],\n",
       "       [0, 4, 1]], dtype=int64)"
      ]
     },
     "execution_count": 6,
     "metadata": {},
     "output_type": "execute_result"
    }
   ],
   "source": [
    "skmet.confusion_matrix(tr,pred)"
   ]
  },
  {
   "cell_type": "code",
   "execution_count": 7,
   "metadata": {},
   "outputs": [
    {
     "name": "stdout",
     "output_type": "stream",
     "text": [
      "              precision    recall  f1-score   support\n",
      "\n",
      "           0       0.71      0.62      0.67         8\n",
      "           1       0.57      0.67      0.62         6\n",
      "\n",
      "    accuracy                           0.64        14\n",
      "   macro avg       0.64      0.65      0.64        14\n",
      "weighted avg       0.65      0.64      0.64        14\n",
      "\n"
     ]
    }
   ],
   "source": [
    "tr   = np.array([0,0,0,0,0,0,0,0,1,1,1,1,1,1])\n",
    "pred = np.array([0,0,1,1,1,0,0,0,1,1,0,0,1,1])\n",
    "print(skmet.classification_report(tr,pred))"
   ]
  },
  {
   "cell_type": "code",
   "execution_count": 8,
   "metadata": {},
   "outputs": [
    {
     "data": {
      "text/plain": [
       "0.7142857142857143"
      ]
     },
     "execution_count": 8,
     "metadata": {},
     "output_type": "execute_result"
    }
   ],
   "source": [
    "skmet.precision_score(tr,pred,pos_label=0)"
   ]
  },
  {
   "cell_type": "code",
   "execution_count": 9,
   "metadata": {},
   "outputs": [
    {
     "name": "stdout",
     "output_type": "stream",
     "text": [
      "              precision    recall  f1-score   support\n",
      "\n",
      "           0       0.80      1.00      0.89         8\n",
      "           1       1.00      0.67      0.80         6\n",
      "\n",
      "    accuracy                           0.86        14\n",
      "   macro avg       0.90      0.83      0.84        14\n",
      "weighted avg       0.89      0.86      0.85        14\n",
      "\n"
     ]
    }
   ],
   "source": [
    "tr   = np.array([0,0,0,0,0,0,0,0,1,1,1,1,1,1])\n",
    "pred = np.array([0,0,0,0,0,0,0,0,1,1,0,0,1,1])\n",
    "print(skmet.classification_report(tr,pred))"
   ]
  },
  {
   "cell_type": "code",
   "execution_count": 10,
   "metadata": {},
   "outputs": [
    {
     "data": {
      "text/plain": [
       "array([[8, 0],\n",
       "       [2, 4]], dtype=int64)"
      ]
     },
     "execution_count": 10,
     "metadata": {},
     "output_type": "execute_result"
    }
   ],
   "source": [
    "skmet.confusion_matrix(tr,pred)"
   ]
  },
  {
   "cell_type": "markdown",
   "metadata": {},
   "source": [
    "### f1_score = 2 * ((pre * recall)/(pre + recall))"
   ]
  },
  {
   "cell_type": "code",
   "execution_count": 11,
   "metadata": {},
   "outputs": [
    {
     "name": "stdout",
     "output_type": "stream",
     "text": [
      "              precision    recall  f1-score   support\n",
      "\n",
      "           0       0.57      1.00      0.73         8\n",
      "           1       0.00      0.00      0.00         6\n",
      "\n",
      "    accuracy                           0.57        14\n",
      "   macro avg       0.29      0.50      0.36        14\n",
      "weighted avg       0.33      0.57      0.42        14\n",
      "\n"
     ]
    },
    {
     "name": "stderr",
     "output_type": "stream",
     "text": [
      "C:\\ProgramData\\Anaconda3\\lib\\site-packages\\sklearn\\metrics\\classification.py:1437: UndefinedMetricWarning: Precision and F-score are ill-defined and being set to 0.0 in labels with no predicted samples.\n",
      "  'precision', 'predicted', average, warn_for)\n"
     ]
    }
   ],
   "source": [
    "tr   = np.array([0,0,0,0,0,0,0,0,1,1,1,1,1,1])\n",
    "pred = np.array([0,0,0,0,0,0,0,0,0,0,0,0,0,0])\n",
    "print(skmet.classification_report(tr,pred))"
   ]
  },
  {
   "cell_type": "code",
   "execution_count": 12,
   "metadata": {},
   "outputs": [
    {
     "data": {
      "text/plain": [
       "array([[8, 0],\n",
       "       [6, 0]], dtype=int64)"
      ]
     },
     "execution_count": 12,
     "metadata": {},
     "output_type": "execute_result"
    }
   ],
   "source": [
    "skmet.confusion_matrix(tr,pred)"
   ]
  }
 ],
 "metadata": {
  "kernelspec": {
   "display_name": "Python 3",
   "language": "python",
   "name": "python3"
  },
  "language_info": {
   "codemirror_mode": {
    "name": "ipython",
    "version": 3
   },
   "file_extension": ".py",
   "mimetype": "text/x-python",
   "name": "python",
   "nbconvert_exporter": "python",
   "pygments_lexer": "ipython3",
   "version": "3.7.4"
  }
 },
 "nbformat": 4,
 "nbformat_minor": 2
}
